{
 "cells": [
  {
   "cell_type": "code",
   "execution_count": 18,
   "metadata": {},
   "outputs": [
    {
     "name": "stdout",
     "output_type": "stream",
     "text": [
      "Bộ 3 số 1, 2, 3 không tạo nên 1 bộ số Pitago\n"
     ]
    }
   ],
   "source": [
    "# Tính xem bộ 3 số có phải 1 bộ số Pitago không?\n",
    "\n",
    "import math\n",
    "\n",
    "# Nhập 3 số tự nhiên\n",
    "\n",
    "a = int(input('Enter number a:'))\n",
    "b = int(input('Enter number b:'))\n",
    "c = int(input('Enter number c:'))\n",
    "\n",
    "if (a<1) or (b<1) or (c<1):\n",
    "    print ('Bộ 3 số {a}, {b}, {c} tồn tại số không phải số tự nhiên'.format(a = a, b = b, c=c))\n",
    "    print ('Xin hãy kiểm tra lại đầu vào!')\n",
    "elif (math.pow(a,2) == math.pow(b,2) + math.pow(c,2)) or (math.pow(b,2) == math.pow(a,2) + math.pow(c,2)) or (math.pow(c,2) == math.pow(b,2) + math.pow(a,2)):\n",
    "    print ('Bộ 3 số {a}, {b}, {c} tạo nên 1 bộ số Pitago'.format(a = a, b = b, c=c))\n",
    "else:\n",
    "    print ('Bộ 3 số {a}, {b}, {c} không tạo nên 1 bộ số Pitago'.format(a = a, b = b, c=c))\n"
   ]
  },
  {
   "cell_type": "code",
   "execution_count": 24,
   "metadata": {},
   "outputs": [
    {
     "name": "stdout",
     "output_type": "stream",
     "text": [
      "Số phút gọi là: 12 phut\n",
      "Giá cước thuê bao phải trả là: 32200 đồng\n"
     ]
    }
   ],
   "source": [
    "# Tính cước điện thoại\n",
    "# Phí bắt buộc: 25000\n",
    "# 50 phút đầu: 600 đồng/p\n",
    "# 150 phút tiếp theo: 400 đồng/phút\n",
    "# Trên 200 phút: 200 đồng/phút\n",
    "\n",
    "#Nhập số phút gọi\n",
    "\n",
    "minute = int(input('Số phút gọi: '))\n",
    "\n",
    "phi = 25000\n",
    "\n",
    "if  (minute <= 50):\n",
    "    cost = phi + 600*minute\n",
    "elif (minute > 50):\n",
    "    cost = phi + 600*50 + (minute-50)*400\n",
    "elif (minute > 200):\n",
    "    cost = phi + (minute-200)*200 + 600*50 + 150*400\n",
    "\n",
    "print ('Số phút gọi là: {phut} phút'.format(phut = minute))\n",
    "print ('Giá cước thuê bao phải trả là: {tien} đồng'.format(tien = cost))\n"
   ]
  },
  {
   "cell_type": "code",
   "execution_count": 27,
   "metadata": {},
   "outputs": [
    {
     "name": "stdout",
     "output_type": "stream",
     "text": [
      "Dữ liệu lỗi cần check lại!\n"
     ]
    }
   ],
   "source": [
    "# In thứ trong tuần\n",
    "\n",
    "thu = int(input('Nhập số tự nhiên 0~6: '))\n",
    "\n",
    "if (thu == 0):\n",
    "    print ('Thứ 2')\n",
    "elif (thu == 1):\n",
    "    print ('Thú 3')\n",
    "elif (thu == 2):\n",
    "    print ('Thứ 4')\n",
    "elif (thu == 3):\n",
    "    print ('Thứ 5')\n",
    "elif (thu == 4):\n",
    "    print ('Thứ 6')\n",
    "elif (thu == 5):\n",
    "    print ('Thứ 7')\n",
    "elif (thu == 6):\n",
    "    print ('Chủ nhật')\n",
    "else:\n",
    "    print ('Dữ liệu lỗi cần check lại!')\n"
   ]
  }
 ],
 "metadata": {
  "interpreter": {
   "hash": "d214c75ab8d1216eadbaa5a693322f926d575fb76f8b66bf2abcf5bac0e5cf6c"
  },
  "kernelspec": {
   "display_name": "Python 3.10.2 64-bit",
   "language": "python",
   "name": "python3"
  },
  "language_info": {
   "codemirror_mode": {
    "name": "ipython",
    "version": 3
   },
   "file_extension": ".py",
   "mimetype": "text/x-python",
   "name": "python",
   "nbconvert_exporter": "python",
   "pygments_lexer": "ipython3",
   "version": "3.10.2"
  },
  "orig_nbformat": 4
 },
 "nbformat": 4,
 "nbformat_minor": 2
}
